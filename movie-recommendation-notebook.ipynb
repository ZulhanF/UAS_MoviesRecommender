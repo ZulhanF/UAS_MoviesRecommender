{
 "cells": [
  {
   "cell_type": "markdown",
   "metadata": {},
   "source": [
    "# Movie Recommendation System\n",
    "Sistem rekomendasi film berbasis konten menggunakan TF-IDF dan similarity"
   ]
  },
  {
   "cell_type": "code",
   "execution_count": null,
   "metadata": {},
   "outputs": [],
   "source": [
    "import pandas as pd\n",
    "import numpy as np\n",
    "from sklearn.feature_extraction.text import TfidfVectorizer\n",
    "from sklearn.metrics.pairwise import cosine_similarity\n",
    "\n",
    "# Membaca dataset\n",
    "df = pd.read_csv('movies_dataset.csv')\n",
    "\n",
    "# Preprocessing\n",
    "df['Kombinasi'] = df['Title'] + ' ' + df['Overview'] + ' ' + df['Genre']\n",
    "\n",
    "# TF-IDF Vectorization\n",
    "vectorizer = TfidfVectorizer(stop_words='english')\n",
    "tfidf_matrix = vectorizer.fit_transform(df['Kombinasi'])\n",
    "\n",
    "# Fungsi rekomendasi\n",
    "def rekomendasi_film(judul, df, tfidf_matrix, top_n=5):\n",
    "    # Cari indeks film yang mirip\n",
    "    idx = df[df['Title'].str.contains(judul, case=False)].index[0]\n",
    "    \n",
    "    # Hitung similarity\n",
    "    similarity_scores = cosine_similarity(tfidf_matrix[idx], tfidf_matrix).flatten()\n",
    "    \n",
    "    # Dapatkan top-n rekomendasi\n",
    "    similar_indices = similarity_scores.argsort()[::-1][1:top_n+1]\n",
    "    \n",
    "    rekomendasi = df.iloc[similar_indices]\n",
    "    return rekomendasi[['Title', 'Overview', 'Poster_Url', 'Release_Date']]"
   ]
  }
 ],
 "metadata": {
  "kernelspec": {
   "display_name": "Python 3",
   "language": "python",
   "name": "python3"
  }
 },
 "nbformat": 4,
 "nbformat_minor": 2
}